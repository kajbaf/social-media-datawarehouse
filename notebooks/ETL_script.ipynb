{
 "cells": [
  {
   "cell_type": "code",
   "execution_count": 59,
   "id": "6f29aa7e",
   "metadata": {},
   "outputs": [],
   "source": [
    "import pyspark\n",
    "from pyspark.sql import SparkSession\n",
    "from pyspark.sql import functions as F\n",
    "from pyspark.sql.types import (\n",
    "    StructType,\n",
    "    StructField,\n",
    "    StringType,\n",
    "    IntegerType,\n",
    "    TimestampType,\n",
    "    DecimalType,\n",
    "    BooleanType,\n",
    "    FloatType,\n",
    ")"
   ]
  },
  {
   "cell_type": "code",
   "execution_count": 60,
   "id": "72b6573c",
   "metadata": {},
   "outputs": [
    {
     "name": "stdout",
     "output_type": "stream",
     "text": [
      "22/09/18 21:33:06 WARN Utils: Service 'SparkUI' could not bind on port 4040. Attempting port 4041.\n",
      "22/09/18 21:33:06 WARN Utils: Service 'SparkUI' could not bind on port 4041. Attempting port 4042.\n"
     ]
    }
   ],
   "source": [
    "session = SparkSession.builder.appName(\"SocialEventsProject\").getOrCreate()\n",
    "spark = session.sparkContext"
   ]
  },
  {
   "cell_type": "code",
   "execution_count": 61,
   "id": "8a47bd76",
   "metadata": {},
   "outputs": [],
   "source": [
    "# ETL Parameters\n",
    "## most recent event 2022, 3, 1\n",
    "## we would aggregate data in 90-day timeframes\n",
    "\n",
    "ETL_DATE = F.to_date(F.lit(\"2022-03-01\"))\n",
    "WINDOW_SIZE = 90\n",
    "FITLER_STMT = f\"where event_date > etl_date - INTERVAL {WINDOW_SIZE} DAYS\"\n",
    "\n",
    "\n",
    "def add_date_columns(df, event_timestamp):\n",
    "    \"This function creates etl_date and event_date columns to be used for filtering data accordingly\"\n",
    "    return df.withColumn(\"event_date\", F.to_date(event_timestamp)).withColumn(\"etl_date\", ETL_DATE)"
   ]
  },
  {
   "cell_type": "markdown",
   "id": "91aa9070",
   "metadata": {},
   "source": [
    "# Events Table\n",
    "**CSV Columns:** event,timestamp,user_id,platform,hashtag_count\n",
    "* Schema assumptions have been described in comments based on meanings and values\n",
    "* Bucket-numbers has been set to 45 based on 3M users creating avg of 300 events per year, max row 500 chars, max bucket size: 10GB"
   ]
  },
  {
   "cell_type": "code",
   "execution_count": 62,
   "id": "076a066e",
   "metadata": {},
   "outputs": [
    {
     "name": "stderr",
     "output_type": "stream",
     "text": [
      "[Stage 0:>                                                          (0 + 1) / 1]\r"
     ]
    },
    {
     "name": "stdout",
     "output_type": "stream",
     "text": [
      "46\n"
     ]
    },
    {
     "name": "stderr",
     "output_type": "stream",
     "text": [
      "                                                                                \r"
     ]
    }
   ],
   "source": [
    "BUCKET_SIZE = 45\n",
    "sch_event = StructType(\n",
    "    [\n",
    "        StructField(\"event\", StringType(), nullable=False),\n",
    "        StructField(\"timestamp\", TimestampType(), nullable=False),   # timestamps are required\n",
    "        StructField(\"user_id\", StringType(), nullable=False),        # user_id is the merge-key and I asssume it is not Nullable.\n",
    "                                                                     # In cases (like Google Analytics events) that user_id is null,\n",
    "                                                                     # a stitching strategy should be implemented prior to data ingestion\n",
    "        StructField(\"platform\", StringType(), nullable=True),\n",
    "        StructField(\"hashtag_count\", DecimalType(), nullable=True),  # hashtag_count is stored as float, better to be defined as Integer\n",
    "    ]\n",
    ")\n",
    "df_events = session.read.options(header=True).schema(sch_event).csv(\"data/events.csv\")\n",
    "df_events = add_date_columns(df_events, df_events.timestamp)\n",
    "df_events.write.sortBy(\"user_id\").bucketBy(BUCKET_SIZE, \"user_id\").format(\"parquet\").mode(\"overwrite\").option(\"path\", \"/tmp/tables/events.parquet\").saveAsTable(\n",
    "    \"events\"\n",
    ")\n",
    "!ls /tmp/tables/events.parquet | wc -l"
   ]
  },
  {
   "cell_type": "markdown",
   "id": "24c9d414",
   "metadata": {},
   "source": [
    "# Payments Table\n",
    "**CSV Columns:** amount_due,attempt_count,attempted,charge_id,closed,currency,user_id,date,description,discount_id,ending_balance,forgiven,id,line_ids,paid,receipt_number,received_at,starting_balance,subscription_id,subtotal,tax,tax_percent,total,webhooks_delivered_at\n",
    "* Schema assumptions have been described in comments based on meanings and values\n",
    "* Bucket-numbers has been set to 30 based on 3M users "
   ]
  },
  {
   "cell_type": "code",
   "execution_count": 63,
   "id": "4ef979b8",
   "metadata": {
    "scrolled": true
   },
   "outputs": [
    {
     "name": "stderr",
     "output_type": "stream",
     "text": [
      "[Stage 1:>                                                          (0 + 1) / 1]\r"
     ]
    },
    {
     "name": "stdout",
     "output_type": "stream",
     "text": [
      "46\n"
     ]
    },
    {
     "name": "stderr",
     "output_type": "stream",
     "text": [
      "                                                                                \r"
     ]
    }
   ],
   "source": [
    "sch_payment = StructType(\n",
    "    [\n",
    "        StructField(\"amount_due\", DecimalType(38, 18), nullable=False),  # no amount_due, no payment! non-Nullable\n",
    "        StructField(\"attempt_count\", IntegerType(), nullable=False),     # attemped is positive integer or 0, non-Nullable\n",
    "        StructField(\"attempted\", BooleanType(), nullable=False),         # boolean field, non-Nullable\n",
    "        StructField(\"charge_id\", StringType(), nullable=True),\n",
    "        StructField(\"closed\", BooleanType(), nullable=False),            # boolean field, non-Nullable\n",
    "        StructField(\"currency\", StringType(), nullable=False),           # currency cannot be null for a payment\n",
    "        StructField(\"user_id\", StringType(), nullable=False),            # user_id is the merge-key and I asssume it is not Nullable.\n",
    "        StructField(\"date\", TimestampType(), nullable=False),            # payment date is required\n",
    "        StructField(\"description\", StringType(), nullable=True),\n",
    "        StructField(\"discount_id\", StringType(), nullable=True),\n",
    "        StructField(\"ending_balance\", DecimalType(38, 18), nullable=True),\n",
    "        StructField(\"forgiven\", BooleanType(), nullable=False),          # boolean field, non-Nullable\n",
    "        StructField(\"id\", StringType(), nullable=False),                 # payment id is required\n",
    "        StructField(\"line_ids\", StringType(), nullable=True),\n",
    "        StructField(\"paid\", BooleanType(), nullable=False),              # payment is boolean, non-Nullable\n",
    "        StructField(\"receipt_number\", StringType(), nullable=True),\n",
    "        StructField(\"received_at\", TimestampType(), nullable=True),\n",
    "        StructField(\"starting_balance\", DecimalType(38, 18), nullable=True),\n",
    "        StructField(\"subscription_id\", StringType(), nullable=False),    # subscription_id is required for processing transactions\n",
    "        StructField(\"subtotal\", DecimalType(38, 18), nullable=True),\n",
    "        StructField(\"tax\", DecimalType(38, 18), nullable=True),\n",
    "        StructField(\"tax_percent\", FloatType(), nullable=True),\n",
    "        StructField(\"total\", DecimalType(38, 18), nullable=True),\n",
    "        StructField(\"webhooks_delivered_at\", StringType(), nullable=True),\n",
    "    ]\n",
    ")\n",
    "df_payment = session.read.options(header=True).schema(sch_payment).csv(\"data/payments_data.csv\")\n",
    "df_payment = add_date_columns(df_payment, df_payment.date)\n",
    "df_payment.write.sortBy(\"user_id\").bucketBy(BUCKET_SIZE, \"user_id\").format(\"parquet\").mode(\"overwrite\").option(\n",
    "    \"path\", \"/tmp/tables/payments.parquet\"\n",
    ").saveAsTable(\"payments\")\n",
    "!ls /tmp/tables/payments.parquet | wc -l"
   ]
  },
  {
   "cell_type": "markdown",
   "id": "0e50bb6a",
   "metadata": {},
   "source": [
    "# Posts Table\n",
    "**CSV Columns:** id,active,delivered,media_id,media_item_id,posted_at,scheduled_at,social_profile_id,type,user_id\n",
    "* Schema assumptions have been described in comments based on meanings and values"
   ]
  },
  {
   "cell_type": "code",
   "execution_count": 64,
   "id": "6ac8200b",
   "metadata": {},
   "outputs": [
    {
     "name": "stderr",
     "output_type": "stream",
     "text": [
      "[Stage 2:>                                                          (0 + 1) / 1]\r"
     ]
    },
    {
     "name": "stdout",
     "output_type": "stream",
     "text": [
      " _SUCCESS\t      'type=InstagramStory'  'type=TikTokPost'\n",
      "'type=FacebookPost'   'type=LinkedinPost'    'type=TwitterPost'\n",
      "'type=InstagramPost'  'type=PinterestPost'\n"
     ]
    },
    {
     "name": "stderr",
     "output_type": "stream",
     "text": [
      "                                                                                \r"
     ]
    }
   ],
   "source": [
    "sch_post = StructType(\n",
    "    [\n",
    "        StructField(\"id\", StringType(), nullable=False),                    # Post.id is non-Nullable\n",
    "        StructField(\"active\", BooleanType(), nullable=False),               # status field is non-Nullable, active/inactive\n",
    "        StructField(\"delivered\", BooleanType(), nullable=False),            # delivery status is non-Nullable, delivered/not\n",
    "        StructField(\"media_id\", StringType(), nullable=True),\n",
    "        StructField(\"media_item_id\", StringType(), nullable=True),\n",
    "        StructField(\"posted_at\", TimestampType(), nullable=False),          # posted_at is non-Nullable\n",
    "        StructField(\"scheduled_at\", TimestampType(), nullable=True),        # the post might be non-scheduled, so Nullable\n",
    "        StructField(\"social_profile_id\", StringType(), nullable=False),     # profile_id is non-Nullable\n",
    "        StructField(\"type\", StringType(), nullable=False),                  # post.type is Enum, non-Nullable\n",
    "        StructField(\"user_id\", StringType(), nullable=False),               # user_id is the merge-key and I asssume it is not Nullable.\n",
    "    ]\n",
    ")\n",
    "df_post = session.read.options(header=True).schema(sch_post).csv(\"data/posts.csv\")\n",
    "\n",
    "# Here I am considering `min(scheduled_at, posted_at)` as the event_date for the `user activities` in the timeframe.\n",
    "# IF only posted_at timestamp is sufficient, the `posted_at` should be used.\n",
    "df_post = add_date_columns(df_post, F.least(df_post.posted_at, df_post.scheduled_at))\n",
    "df_post.write.sortBy(\"user_id\").bucketBy(BUCKET_SIZE, \"user_id\").partitionBy(\"type\").format(\"parquet\").mode(\"overwrite\")\\\n",
    "             .option(\"path\", \"/tmp/tables/posts.parquet\").saveAsTable(\"posts\")\n",
    "!ls /tmp/tables/posts.parquet"
   ]
  },
  {
   "cell_type": "code",
   "execution_count": 65,
   "id": "dbd25bb3",
   "metadata": {},
   "outputs": [
    {
     "name": "stdout",
     "output_type": "stream",
     "text": [
      "+--------------------+-------------+--------+\n",
      "|             user_id|total_revenue|currency|\n",
      "+--------------------+-------------+--------+\n",
      "|-1061970574945339405|        38.00|     usd|\n",
      "| -107917820828177159|        19.00|     usd|\n",
      "|-1320943626619822068|        30.00|     usd|\n",
      "|-1664641004571275844|         9.00|     usd|\n",
      "|-1675915774625901833|        19.00|     usd|\n",
      "|-2011115130227688920|        38.00|     usd|\n",
      "|-2310678391727383421|        90.00|     usd|\n",
      "|-2342875281951203170|        25.36|     usd|\n",
      "|-2377089662735596849|        30.00|     usd|\n",
      "|-2651059597082438967|        90.00|     usd|\n",
      "+--------------------+-------------+--------+\n",
      "only showing top 10 rows\n",
      "\n"
     ]
    }
   ],
   "source": [
    "# I assume that each user performs his/her transactions only in one currency\n",
    "payment_query = f\"\"\"\n",
    "select user_id,\n",
    "       cast(sum(total) as decimal(8, 2)) as total_revenue,\n",
    "       first_value(currency) as currency\n",
    "from payments\n",
    "{FITLER_STMT}\n",
    "group by user_id\n",
    ";\n",
    "\"\"\"\n",
    "payment_report = session.sql(payment_query)\n",
    "payment_report.show(10)"
   ]
  },
  {
   "cell_type": "code",
   "execution_count": 66,
   "id": "201cf525",
   "metadata": {},
   "outputs": [
    {
     "name": "stderr",
     "output_type": "stream",
     "text": [
      "[Stage 4:==================================================>      (40 + 4) / 45]\r"
     ]
    },
    {
     "name": "stdout",
     "output_type": "stream",
     "text": [
      "+--------------------+-----------+------------------------+------------------+-------------------+--------------------+--------------------+---------------------+-------------------+-----------------+\n",
      "|             user_id|total_posts|average_schedule_seconds|total_twitter_post|total_facebook_post|total_pinterest_post|total_instagram_post|total_instagram_story|total_linkedin_post|total_tiktok_post|\n",
      "+--------------------+-----------+------------------------+------------------+-------------------+--------------------+--------------------+---------------------+-------------------+-----------------+\n",
      "|-1005761344070730147|          3|       393633.6666666667|                 0|                  1|                   0|                   2|                    0|                  0|                0|\n",
      "|-1011253794481586943|          3|                622847.0|                 0|                  0|                   0|                   3|                    0|                  0|                0|\n",
      "|-1015534981948975104|          1|                212420.0|                 0|                  0|                   0|                   1|                    0|                  0|                0|\n",
      "|-1019644420356056569|          1|                234006.0|                 0|                  1|                   0|                   0|                    0|                  0|                0|\n",
      "|-1024309421076415023|          3|                644441.0|                 0|                  0|                   0|                   2|                    1|                  0|                0|\n",
      "|-1027395588521134033|          2|                235828.0|                 0|                  0|                   0|                   2|                    0|                  0|                0|\n",
      "|-1028186821366248855|          3|       464425.3333333333|                 0|                  1|                   1|                   1|                    0|                  0|                0|\n",
      "|-1029036872612913706|          1|                453623.0|                 0|                  0|                   0|                   1|                    0|                  0|                0|\n",
      "|-1029201651342033845|          2|                370849.0|                 0|                  0|                   0|                   2|                    0|                  0|                0|\n",
      "|-1032887857889204933|          1|                    null|                 0|                  0|                   0|                   1|                    0|                  0|                0|\n",
      "+--------------------+-----------+------------------------+------------------+-------------------+--------------------+--------------------+---------------------+-------------------+-----------------+\n",
      "only showing top 10 rows\n",
      "\n"
     ]
    },
    {
     "name": "stderr",
     "output_type": "stream",
     "text": [
      "                                                                                \r"
     ]
    }
   ],
   "source": [
    "# only average time for scheduled posts is calculated.\n",
    "# Linkedin total was not requested in the problem statement\n",
    "post_query = f\"\"\"\n",
    "select user_id,\n",
    "       count(id) as total_posts,\n",
    "       avg(cast(posted_at as long) - cast(scheduled_at as long)) as average_schedule_seconds,\n",
    "       sum(if(type='TwitterPost', 1, 0)) as total_twitter_post,\n",
    "       sum(if(type='FacebookPost', 1, 0)) as total_facebook_post,\n",
    "       sum(if(type='PinterestPost', 1, 0)) as total_pinterest_post,\n",
    "       sum(if(type='InstagramPost', 1, 0)) as total_instagram_post,\n",
    "       sum(if(type='InstagramStory', 1, 0)) as total_instagram_story,\n",
    "       sum(if(type='LinkedinPost', 1, 0)) as total_linkedin_post,\n",
    "       sum(if(type='TikTokPost', 1, 0)) as total_tiktok_post\n",
    "from posts\n",
    "{FITLER_STMT}\n",
    "group by user_id\n",
    "order by user_id\n",
    ";\n",
    "\"\"\"\n",
    "post_report = session.sql(post_query)\n",
    "post_report.show(10)"
   ]
  },
  {
   "cell_type": "code",
   "execution_count": 67,
   "id": "92d4898a",
   "metadata": {},
   "outputs": [
    {
     "name": "stdout",
     "output_type": "stream",
     "text": [
      "+--------------------+------------------------+--------------------+\n",
      "|             user_id|suggested_hashtags_count|suggested_time_count|\n",
      "+--------------------+------------------------+--------------------+\n",
      "|-1061970574945339405|                       5|                   3|\n",
      "| -107917820828177159|                       0|                   2|\n",
      "|-1116514337704231938|                       7|                   3|\n",
      "|-1205038767369361839|                       0|                   2|\n",
      "|-1232408021217212784|                      13|                   1|\n",
      "|-1320943626619822068|                       3|                   1|\n",
      "|-1660451121168657102|                       0|                   1|\n",
      "|-1664641004571275844|                       0|                   1|\n",
      "|-1675915774625901833|                       6|                   1|\n",
      "|-2011115130227688920|                       0|                   1|\n",
      "+--------------------+------------------------+--------------------+\n",
      "only showing top 10 rows\n",
      "\n"
     ]
    }
   ],
   "source": [
    "event_query = f\"\"\"\n",
    "select user_id,\n",
    "       sum(if(event='suggested_hashtags_inserted', hashtag_count, 0)) as suggested_hashtags_count,\n",
    "       sum(if(event='scheduled_at_best_time', 1, 0)) as suggested_time_count\n",
    "from events\n",
    "{FITLER_STMT}\n",
    "group by user_id\n",
    ";\n",
    "\"\"\"\n",
    "event_report = session.sql(event_query)\n",
    "event_report.show(10)"
   ]
  },
  {
   "cell_type": "markdown",
   "id": "bc1b96b9",
   "metadata": {},
   "source": [
    "# Export report"
   ]
  },
  {
   "cell_type": "code",
   "execution_count": 68,
   "id": "c576900d",
   "metadata": {},
   "outputs": [
    {
     "name": "stderr",
     "output_type": "stream",
     "text": [
      "                                                                                \r"
     ]
    }
   ],
   "source": [
    "user_report = payment_report.join(post_report, [\"user_id\"], \"outer\").join(event_report, [\"user_id\"], \"outer\")\n",
    "user_report.coalesce(1).write.option(\"header\", True).mode(\"overwrite\").csv(\"data/user_report.csv\")"
   ]
  },
  {
   "cell_type": "code",
   "execution_count": 69,
   "id": "ff890ce6",
   "metadata": {},
   "outputs": [
    {
     "name": "stderr",
     "output_type": "stream",
     "text": [
      "[Stage 9:================================================>        (38 + 5) / 45]\r"
     ]
    },
    {
     "name": "stdout",
     "output_type": "stream",
     "text": [
      "+--------------------+-------------+--------+-----------+------------------------+------------------+-------------------+--------------------+--------------------+---------------------+-------------------+-----------------+------------------------+--------------------+\n",
      "|user_id             |total_revenue|currency|total_posts|average_schedule_seconds|total_twitter_post|total_facebook_post|total_pinterest_post|total_instagram_post|total_instagram_story|total_linkedin_post|total_tiktok_post|suggested_hashtags_count|suggested_time_count|\n",
      "+--------------------+-------------+--------+-----------+------------------------+------------------+-------------------+--------------------+--------------------+---------------------+-------------------+-----------------+------------------------+--------------------+\n",
      "|-1061970574945339405|38.00        |usd     |3          |275412.5                |0                 |1                  |0                   |2                   |0                    |0                  |0                |5                       |3                   |\n",
      "|-1066229023088022186|null         |null    |1          |352851.0                |0                 |0                  |0                   |1                   |0                    |0                  |0                |null                    |null                |\n",
      "|-107917820828177159 |19.00        |usd     |null       |null                    |null              |null               |null                |null                |null                 |null               |null             |0                       |2                   |\n",
      "|-1116514337704231938|null         |null    |2          |345632.0                |0                 |1                  |0                   |1                   |0                    |0                  |0                |7                       |3                   |\n",
      "|-1205038767369361839|null         |null    |2          |198029.0                |0                 |0                  |1                   |1                   |0                    |0                  |0                |0                       |2                   |\n",
      "|-1232408021217212784|null         |null    |null       |null                    |null              |null               |null                |null                |null                 |null               |null             |13                      |1                   |\n",
      "|-1320943626619822068|30.00        |usd     |5          |268235.5                |0                 |1                  |0                   |4                   |0                    |0                  |0                |3                       |1                   |\n",
      "|-1660451121168657102|null         |null    |null       |null                    |null              |null               |null                |null                |null                 |null               |null             |0                       |1                   |\n",
      "|-1664641004571275844|9.00         |usd     |null       |null                    |null              |null               |null                |null                |null                 |null               |null             |0                       |1                   |\n",
      "|-1675915774625901833|19.00        |usd     |2          |397825.5                |0                 |1                  |0                   |1                   |0                    |0                  |0                |6                       |1                   |\n",
      "+--------------------+-------------+--------+-----------+------------------------+------------------+-------------------+--------------------+--------------------+---------------------+-------------------+-----------------+------------------------+--------------------+\n",
      "only showing top 10 rows\n",
      "\n"
     ]
    },
    {
     "name": "stderr",
     "output_type": "stream",
     "text": [
      "                                                                                \r"
     ]
    }
   ],
   "source": [
    "user_report.show(10, truncate=False)"
   ]
  },
  {
   "cell_type": "code",
   "execution_count": 70,
   "id": "cf8ac155",
   "metadata": {},
   "outputs": [],
   "source": [
    "spark.stop()"
   ]
  }
 ],
 "metadata": {
  "kernelspec": {
   "display_name": "Python 3 (ipykernel)",
   "language": "python",
   "name": "python3"
  },
  "language_info": {
   "codemirror_mode": {
    "name": "ipython",
    "version": 3
   },
   "file_extension": ".py",
   "mimetype": "text/x-python",
   "name": "python",
   "nbconvert_exporter": "python",
   "pygments_lexer": "ipython3",
   "version": "3.10.4"
  },
  "vscode": {
   "interpreter": {
    "hash": "f66f9bfdb3ec1ebbd1edfbb60250deb89050eb031be8a6883b27f913d6c35034"
   }
  }
 },
 "nbformat": 4,
 "nbformat_minor": 5
}

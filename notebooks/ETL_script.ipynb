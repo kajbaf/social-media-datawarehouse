{
 "cells": [
  {
   "cell_type": "code",
   "execution_count": 7,
   "id": "6f29aa7e",
   "metadata": {},
   "outputs": [],
   "source": [
    "import pyspark\n",
    "from pyspark.sql import SparkSession\n",
    "from pyspark.sql.types import (\n",
    "    StructType,\n",
    "    StructField,\n",
    "    StringType,\n",
    "    IntegerType,\n",
    "    TimestampType,\n",
    "    DecimalType,\n",
    "    LongType,\n",
    "    BooleanType,\n",
    "    DoubleType,\n",
    ")"
   ]
  },
  {
   "cell_type": "code",
   "execution_count": 8,
   "id": "72b6573c",
   "metadata": {},
   "outputs": [
    {
     "data": {
      "text/plain": [
       "[0, 2, 4, 6, 8, 10, 12, 14, 16, 18]"
      ]
     },
     "execution_count": 8,
     "metadata": {},
     "output_type": "execute_result"
    }
   ],
   "source": [
    "session = SparkSession.builder.master(\"local[1]\").appName(\"LaterProject\").getOrCreate()\n",
    "spark = session.sparkContext\n",
    "data = range(10000)\n",
    "distData = spark.parallelize(data)\n",
    "distData.filter(lambda x: not x & 1).take(10)"
   ]
  },
  {
   "cell_type": "code",
   "execution_count": 9,
   "id": "91aa9070",
   "metadata": {},
   "outputs": [
    {
     "name": "stdout",
     "output_type": "stream",
     "text": [
      "+--------------------+-------------------+--------------------+--------+-------------+\n",
      "|               event|          timestamp|             user_id|platform|hashtag_count|\n",
      "+--------------------+-------------------+--------------------+--------+-------------+\n",
      "|suggested_hashtag...|2021-11-07 09:56:00| -319166095449930469|    null|            1|\n",
      "|scheduled_at_best...|2021-11-04 23:28:00|-7923241977147888618|     web|         null|\n",
      "|suggested_hashtag...|2022-01-22 05:19:00|-2492747712229804050|    null|            9|\n",
      "|scheduled_at_best...|2022-02-18 21:37:00|-3840912788726453110|    null|         null|\n",
      "|suggested_hashtag...|2021-11-24 01:57:00| 5545543423372056573|    null|            8|\n",
      "|suggested_hashtag...|2022-01-02 14:34:00|-2889228288752847947|    null|            6|\n",
      "|suggested_hashtag...|2021-12-22 22:17:00| 5966878808570092570|    null|            1|\n",
      "|suggested_hashtag...|2021-11-30 10:54:00| 5661323330809189471|    null|            8|\n",
      "|suggested_hashtag...|2021-12-09 20:27:00| 6691320566161091122|    null|            2|\n",
      "|suggested_hashtag...|2022-01-26 11:52:00|-5116800727944139753|    null|            8|\n",
      "+--------------------+-------------------+--------------------+--------+-------------+\n",
      "only showing top 10 rows\n",
      "\n",
      "root\n",
      " |-- event: string (nullable = true)\n",
      " |-- timestamp: timestamp (nullable = true)\n",
      " |-- user_id: string (nullable = true)\n",
      " |-- platform: string (nullable = true)\n",
      " |-- hashtag_count: decimal(10,0) (nullable = true)\n",
      "\n"
     ]
    }
   ],
   "source": [
    "# event,timestamp,user_id,platform,hashtag_count\n",
    "sch_event = StructType(\n",
    "    [\n",
    "        StructField(\"event\", StringType(), nullable=False),\n",
    "        StructField(\"timestamp\", TimestampType(), nullable=False),  # timestamps are required\n",
    "        StructField(\"user_id\", StringType(), nullable=False),       # user_id is the merge-key and I asssume it is not Nullable.\n",
    "                                                                    # In cases (like Google Analytics events) that user_id is null,\n",
    "                                                                    # a stitching strategy should be implemented prior to data ingestion\n",
    "        StructField(\"platform\", StringType(), nullable=True),\n",
    "        StructField(\"hashtag_count\", DecimalType(), nullable=True), # hashtag_count is stored as float, better to be defined as Integer\n",
    "    ]\n",
    ")\n",
    "df_events = session.read.options(header=True).schema(sch_event).csv(\"data/events.csv\")\n",
    "df_events.show(10)\n",
    "df_events.printSchema()"
   ]
  },
  {
   "cell_type": "code",
   "execution_count": 10,
   "id": "4ef979b8",
   "metadata": {},
   "outputs": [
    {
     "name": "stdout",
     "output_type": "stream",
     "text": [
      "+------------------+-------------+---------+---------+------+--------+--------------------+-------------------+-----------+--------------------+--------------+--------+--------------------+--------+----+--------------+-------------------+----------------+--------------------+--------+----+-----------+-----+---------------------+\n",
      "|        amount_due|attempt_count|attempted|charge_id|closed|currency|             user_id|               date|description|         discount_id|ending_balance|forgiven|                  id|line_ids|paid|receipt_number|        received_at|starting_balance|     subscription_id|subtotal| tax|tax_percent|total|webhooks_delivered_at|\n",
      "+------------------+-------------+---------+---------+------+--------+--------------------+-------------------+-----------+--------------------+--------------+--------+--------------------+--------+----+--------------+-------------------+----------------+--------------------+--------+----+-----------+-----+---------------------+\n",
      "|5.8100000000000005|            0|     true|     null| false|     usd|-5883066163442742154|2022-02-14 03:15:00|       null|                null|          null|   false|in_1HK7qU4TP1Hoso...|    null|true|          null|2022-02-14 03:15:00|               0|-1309811690946657546|       6|null|       null|    6|                 null|\n",
      "|             55.71|            0|     true|     null| false|     usd| 9179951471323778798|2022-01-09 20:19:00|       null|cus_Hk948OlqcAEDc...|          null|   false|in_1HK7sK4TP1Hoso...|    null|true|          null|2022-01-09 20:19:00|               0| 5938023017386467078|      56|null|       null|   56|                 null|\n",
      "|              6.75|            0|     true|     null| false|     usd|-6024674226041919647|2021-12-14 21:39:00|       null|                null|          null|   false|in_1HK7x94TP1Hoso...|    null|true|          null|2021-12-14 21:39:00|               0|  587230554549755745|       7|null|       null|    7|                 null|\n",
      "|             89.99|            0|     true|     null| false|     usd|  155770122975876916|2022-02-06 09:33:00|       null|                null|          null|   false|in_1HK7sq4TP1Hoso...|    null|true|          null|2022-02-06 09:33:00|               0| 6808203967848547590|      90|null|       null|   90|                 null|\n",
      "|               0.0|            0|     true|     null| false|     usd|-8058606623558058286|2021-11-27 03:15:00|       null|                null|          null|   false|in_1HK7rt4TP1Hoso...|    null|true|          null|2021-11-27 03:15:00|           -3800| 6109523966784855642|       0|null|       null|    0|                 null|\n",
      "|              49.0|            0|     true|     null| false|     usd| 6846143098503204063|2021-12-27 01:31:00|       null|                null|          null|   false|in_1HK7tx4TP1Hoso...|    null|true|          null|2021-12-27 01:31:00|               0|-8805343466056722172|      49|null|       null|   49|                 null|\n",
      "|              29.0|            0|     true|     null| false|     usd| 1961256746686339938|2021-11-13 21:27:00|       null|                null|          null|   false|in_1HK7tN4TP1Hoso...|    null|true|          null|2021-11-13 21:27:00|               0|-1776185327828741179|      29|null|       null|   29|                 null|\n",
      "|              29.0|            0|     true|     null| false|     usd|-2428762405910682350|2021-12-10 03:25:00|       null|                null|          null|   false|in_1HK7wc4TP1Hoso...|    null|true|          null|2021-12-10 03:25:00|               0|-8483957480281774437|      29|null|       null|   29|                 null|\n",
      "|              19.0|            0|     true|     null| false|     usd|-5075739807803141385|2021-10-14 19:32:00|       null|                null|          null|   false|in_1HK7vb4TP1Hoso...|    null|true|          null|2021-10-14 19:32:00|               0|-5160573687790724747|      19|null|       null|   19|                 null|\n",
      "|              19.0|            0|     true|     null| false|     usd|-4632388956803365730|2021-12-24 23:10:00|       null|                null|          null|   false|in_1HK7zo4TP1Hoso...|    null|true|          null|2021-12-24 23:10:00|               0| 5855731312189166036|      19|null|       null|   19|                 null|\n",
      "+------------------+-------------+---------+---------+------+--------+--------------------+-------------------+-----------+--------------------+--------------+--------+--------------------+--------+----+--------------+-------------------+----------------+--------------------+--------+----+-----------+-----+---------------------+\n",
      "only showing top 10 rows\n",
      "\n",
      "root\n",
      " |-- amount_due: double (nullable = true)\n",
      " |-- attempt_count: integer (nullable = true)\n",
      " |-- attempted: boolean (nullable = true)\n",
      " |-- charge_id: string (nullable = true)\n",
      " |-- closed: boolean (nullable = true)\n",
      " |-- currency: string (nullable = true)\n",
      " |-- user_id: string (nullable = true)\n",
      " |-- date: timestamp (nullable = true)\n",
      " |-- description: string (nullable = true)\n",
      " |-- discount_id: string (nullable = true)\n",
      " |-- ending_balance: decimal(10,0) (nullable = true)\n",
      " |-- forgiven: boolean (nullable = true)\n",
      " |-- id: string (nullable = true)\n",
      " |-- line_ids: string (nullable = true)\n",
      " |-- paid: boolean (nullable = true)\n",
      " |-- receipt_number: string (nullable = true)\n",
      " |-- received_at: timestamp (nullable = true)\n",
      " |-- starting_balance: decimal(10,0) (nullable = true)\n",
      " |-- subscription_id: string (nullable = true)\n",
      " |-- subtotal: decimal(10,0) (nullable = true)\n",
      " |-- tax: decimal(10,0) (nullable = true)\n",
      " |-- tax_percent: double (nullable = true)\n",
      " |-- total: decimal(10,0) (nullable = true)\n",
      " |-- webhooks_delivered_at: string (nullable = true)\n",
      "\n"
     ]
    }
   ],
   "source": [
    "# amount_due,attempt_count,attempted,charge_id,closed,currency,user_id,date,description,discount_id,\n",
    "# ending_balance,forgiven,id,line_ids,paid,receipt_number,received_at,starting_balance,\n",
    "# subscription_id,subtotal,tax,tax_percent,total,webhooks_delivered_at\n",
    "sch_payment = StructType(\n",
    "    [\n",
    "        StructField(\"amount_due\", DoubleType(), nullable=True),\n",
    "        StructField(\"attempt_count\", IntegerType(), nullable=True),\n",
    "        StructField(\"attempted\", BooleanType(), nullable=True),\n",
    "        StructField(\"charge_id\", StringType(), nullable=True),\n",
    "        StructField(\"closed\", BooleanType(), nullable=True),\n",
    "        StructField(\"currency\", StringType(), nullable=True),\n",
    "        StructField(\"user_id\", StringType(), nullable=False),       # user_id is the merge-key and I asssume it is not Nullable.\n",
    "        StructField(\"date\", TimestampType(), nullable=False),       # payment date is required\n",
    "        StructField(\"description\", StringType(), nullable=True),\n",
    "        StructField(\"discount_id\", StringType(), nullable=True),\n",
    "        StructField(\"ending_balance\", DecimalType(), nullable=True),\n",
    "        StructField(\"forgiven\", BooleanType(), nullable=True),\n",
    "        StructField(\"id\", StringType(), nullable=False),\n",
    "        StructField(\"line_ids\", StringType(), nullable=True),\n",
    "        StructField(\"paid\", BooleanType(), nullable=True),\n",
    "        StructField(\"receipt_number\", StringType(), nullable=True),\n",
    "        StructField(\"received_at\", TimestampType(), nullable=True),\n",
    "        StructField(\"starting_balance\", DecimalType(), nullable=True),\n",
    "        StructField(\"subscription_id\", StringType(), nullable=True),\n",
    "        StructField(\"subtotal\", DecimalType(), nullable=True),\n",
    "        StructField(\"tax\", DecimalType(), nullable=True),\n",
    "        StructField(\"tax_percent\", DoubleType(), nullable=True),\n",
    "        StructField(\"total\", DecimalType(), nullable=True),\n",
    "        StructField(\"webhooks_delivered_at\", StringType(), nullable=True),\n",
    "    ]\n",
    ")\n",
    "df_payment = session.read.options(header=True).schema(sch_payment).csv(\"data/payments_data.csv\")\n",
    "df_payment.show(10)\n",
    "df_payment.printSchema()"
   ]
  },
  {
   "cell_type": "code",
   "execution_count": 11,
   "id": "0e50bb6a",
   "metadata": {},
   "outputs": [
    {
     "name": "stdout",
     "output_type": "stream",
     "text": [
      "22/09/17 12:34:55 WARN CSVHeaderChecker: Number of column in CSV header is not equal to number of fields in the schema:\n",
      " Header length: 10, schema size: 11\n",
      "CSV file: file:///mnt/d/Projects/Later/notebooks/data/posts.csv\n",
      "+--------------------+----+------+---------+--------------------+-------------------+-------------------+------------+-----------------+--------------------+-------+\n",
      "|               event|  id|active|delivered|            media_id|      media_item_id|          posted_at|scheduled_at|social_profile_id|                type|user_id|\n",
      "+--------------------+----+------+---------+--------------------+-------------------+-------------------+------------+-----------------+--------------------+-------+\n",
      "|-2644227440758438680|True|  true|     null| 8702159562118430509|2021-11-14 00:05:00|2021-11-11 00:04:59|        null|    InstagramPost|-8530761503088838316|   null|\n",
      "| 5054078446395994529|True| false|     null| 4010273432643314211|2021-12-09 22:33:00|2021-12-05 10:32:54|        null|    InstagramPost|-4458923499767635161|   null|\n",
      "|  -93546193427941638|True|  true|     null| 8702159562118430509|2022-02-18 19:59:00|               null|        null|    InstagramPost| 9109099619276703555|   null|\n",
      "|-7382343317847298950|True|  true|     null| 8702159562118430509|2021-12-11 23:11:00|2021-12-04 05:11:00|        null|    InstagramPost| 5407195317730610973|   null|\n",
      "| 8661648500741188521|True|  true|     null|-1359360643728698146|2021-10-29 21:49:00|2021-10-23 10:48:39|        null|     FacebookPost| 1244434335534948353|   null|\n",
      "| -303693436515856146|True|  true|     null| 8702159562118430509|2021-10-11 13:34:00|2021-10-05 03:33:38|        null|    InstagramPost|-1308713752362310780|   null|\n",
      "|-7015573250031864981|True|  true|     null| 8702159562118430509|2022-02-10 11:45:00|               null|        null|    InstagramPost| 7997621995692603364|   null|\n",
      "|-8160543228895425821|True|  true|     null| 8702159562118430509|2021-11-07 01:49:00|2021-10-30 07:48:08|        null|     FacebookPost|-6138871678592887033|   null|\n",
      "|-3829832212875461888|True|  true|     null| 2292114059068971465|2021-10-13 12:43:00|               null|        null|    InstagramPost|-8516456751760594247|   null|\n",
      "|-7976894319455923535|True|  true|     null| 8702159562118430509|2021-12-08 06:25:00|2021-12-07 16:24:19|        null|      TwitterPost| 6706692326455666733|   null|\n",
      "+--------------------+----+------+---------+--------------------+-------------------+-------------------+------------+-----------------+--------------------+-------+\n",
      "only showing top 10 rows\n",
      "\n",
      "root\n",
      " |-- event: string (nullable = true)\n",
      " |-- id: string (nullable = true)\n",
      " |-- active: boolean (nullable = true)\n",
      " |-- delivered: boolean (nullable = true)\n",
      " |-- media_id: string (nullable = true)\n",
      " |-- media_item_id: string (nullable = true)\n",
      " |-- posted_at: timestamp (nullable = true)\n",
      " |-- scheduled_at: timestamp (nullable = true)\n",
      " |-- social_profile_id: string (nullable = true)\n",
      " |-- type: string (nullable = true)\n",
      " |-- user_id: string (nullable = true)\n",
      "\n"
     ]
    }
   ],
   "source": [
    "# id,active,delivered,media_id,media_item_id,posted_at,scheduled_at,social_profile_id,type,user_id\n",
    "\n",
    "sch_post = StructType(\n",
    "    [\n",
    "        StructField(\"event\", StringType(), nullable=False),\n",
    "        StructField(\"id\", StringType(), nullable=False),\n",
    "        StructField(\"active\", BooleanType(), nullable=True),\n",
    "        StructField(\"delivered\", BooleanType(), nullable=True),\n",
    "        StructField(\"media_id\", StringType(), nullable=True),\n",
    "        StructField(\"media_item_id\", StringType(), nullable=True),\n",
    "        StructField(\"posted_at\", TimestampType(), nullable=False),      # posted_at is required\n",
    "        StructField(\"scheduled_at\", TimestampType(), nullable=True),    # the post could be unscheduled, so Nullable\n",
    "        StructField(\"social_profile_id\", StringType(), nullable=True),\n",
    "        StructField(\"type\", StringType(), nullable=True),\n",
    "        StructField(\"user_id\", StringType(), nullable=False),           # user_id is the merge-key and I asssume it is not Nullable.\n",
    "    ]\n",
    ")\n",
    "df_post = session.read.options(header=True).schema(sch_post).csv(\"data/posts.csv\")\n",
    "df_post.show(10)\n",
    "df_post.printSchema()"
   ]
  },
  {
   "cell_type": "code",
   "execution_count": null,
   "id": "11331bc5",
   "metadata": {},
   "outputs": [],
   "source": []
  },
  {
   "cell_type": "code",
   "execution_count": 12,
   "id": "cf8ac155",
   "metadata": {},
   "outputs": [],
   "source": [
    "spark.stop()"
   ]
  },
  {
   "cell_type": "code",
   "execution_count": null,
   "id": "5342adf8",
   "metadata": {},
   "outputs": [],
   "source": []
  }
 ],
 "metadata": {
  "kernelspec": {
   "display_name": "Python 3.10.4 ('later-test-Hmd2qVmT-py3.10')",
   "language": "python",
   "name": "python3"
  },
  "language_info": {
   "codemirror_mode": {
    "name": "ipython",
    "version": 3
   },
   "file_extension": ".py",
   "mimetype": "text/x-python",
   "name": "python",
   "nbconvert_exporter": "python",
   "pygments_lexer": "ipython3",
   "version": "3.10.4"
  },
  "vscode": {
   "interpreter": {
    "hash": "f66f9bfdb3ec1ebbd1edfbb60250deb89050eb031be8a6883b27f913d6c35034"
   }
  }
 },
 "nbformat": 4,
 "nbformat_minor": 5
}
